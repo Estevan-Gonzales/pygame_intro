{
 "cells": [
  {
   "cell_type": "code",
   "execution_count": 23,
   "metadata": {},
   "outputs": [
    {
     "ename": "KeyboardInterrupt",
     "evalue": "",
     "output_type": "error",
     "traceback": [
      "\u001b[0;31m---------------------------------------------------------------------------\u001b[0m",
      "\u001b[0;31mKeyboardInterrupt\u001b[0m                         Traceback (most recent call last)",
      "\u001b[0;32m<ipython-input-23-8f438ce3b9e5>\u001b[0m in \u001b[0;36m<module>\u001b[0;34m\u001b[0m\n\u001b[1;32m     33\u001b[0m     \u001b[0mscreen\u001b[0m\u001b[0;34m.\u001b[0m\u001b[0mblit\u001b[0m\u001b[0;34m(\u001b[0m\u001b[0mball\u001b[0m\u001b[0;34m,\u001b[0m \u001b[0mballrect\u001b[0m\u001b[0;34m)\u001b[0m \u001b[0;31m#render objects visually\u001b[0m\u001b[0;34m\u001b[0m\u001b[0;34m\u001b[0m\u001b[0m\n\u001b[1;32m     34\u001b[0m     \u001b[0mscreen\u001b[0m\u001b[0;34m.\u001b[0m\u001b[0mblit\u001b[0m\u001b[0;34m(\u001b[0m\u001b[0mball2\u001b[0m\u001b[0;34m,\u001b[0m \u001b[0mballrect2\u001b[0m\u001b[0;34m)\u001b[0m\u001b[0;34m\u001b[0m\u001b[0;34m\u001b[0m\u001b[0m\n\u001b[0;32m---> 35\u001b[0;31m     \u001b[0mpygame\u001b[0m\u001b[0;34m.\u001b[0m\u001b[0mdisplay\u001b[0m\u001b[0;34m.\u001b[0m\u001b[0mflip\u001b[0m\u001b[0;34m(\u001b[0m\u001b[0;34m)\u001b[0m \u001b[0;31m#update full display of the screen\u001b[0m\u001b[0;34m\u001b[0m\u001b[0;34m\u001b[0m\u001b[0m\n\u001b[0m",
      "\u001b[0;31mKeyboardInterrupt\u001b[0m: "
     ]
    }
   ],
   "source": [
    "import sys, pygame #import libraries\n",
    "pygame.init() #start pygame?\n",
    "\n",
    "size = width, height = 400, 500 #length, height\n",
    "speed = [10, 2] #horizontal, vertical\n",
    "speed2 = [5, 1]\n",
    "black = 0, 0, 0 #assign rgb value to variable \"black\"\n",
    "\n",
    "screen = pygame.display.set_mode(size) #set screen size to variable \"size\"\n",
    "\n",
    "ball = pygame.image.load(\"Intro_ball.gif\") #load gif\n",
    "ball2 = pygame.image.load(\"Intro_ball2.gif\")\n",
    "ballrect = ball.get_rect() #gets rectangular coordinates of rectangle surrounding image?\n",
    "ballrect2 = ball2.get_rect()\n",
    "\n",
    "while 1:\n",
    "    for event in pygame.event.get():\n",
    "        if event.type == pygame.QUIT: sys.exit() #continue until told to quit\n",
    "\n",
    "    ballrect = ballrect.move(speed) #move rectangle\n",
    "    if ballrect.left < 0 or ballrect.right > width:\n",
    "        speed[0] = -speed[0] #if rectangle goes out of bounds horizontally, flip direction\n",
    "    if ballrect.top < 0 or ballrect.bottom > height:\n",
    "        speed[1] = -speed[1] #if rectangle goes out of bounds vertically, flip direction\n",
    "        \n",
    "    ballrect2 = ballrect2.move(speed2) #move rectangle\n",
    "    if ballrect2.left < 0 or ballrect2.right > width:\n",
    "        speed2[0] = -speed2[0] #if rectangle goes out of bounds horizontally, flip direction\n",
    "    if ballrect2.top < 0 or ballrect2.bottom > height:\n",
    "        speed2[1] = -speed2[1] #if rectangle goes out of bounds vertically, flip direction\n",
    "\n",
    "    screen.fill(black) #set background color\n",
    "    screen.blit(ball, ballrect) #render objects visually\n",
    "    screen.blit(ball2, ballrect2)\n",
    "    pygame.display.flip() #update full display of the screen"
   ]
  },
  {
   "cell_type": "code",
   "execution_count": null,
   "metadata": {},
   "outputs": [],
   "source": []
  }
 ],
 "metadata": {
  "kernelspec": {
   "display_name": "Python 3",
   "language": "python",
   "name": "python3"
  },
  "language_info": {
   "codemirror_mode": {
    "name": "ipython",
    "version": 3
   },
   "file_extension": ".py",
   "mimetype": "text/x-python",
   "name": "python",
   "nbconvert_exporter": "python",
   "pygments_lexer": "ipython3",
   "version": "3.8.3"
  }
 },
 "nbformat": 4,
 "nbformat_minor": 4
}
