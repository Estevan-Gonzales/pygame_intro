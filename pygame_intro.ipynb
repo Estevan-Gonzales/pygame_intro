{
 "cells": [
  {
   "cell_type": "code",
   "execution_count": 9,
   "metadata": {},
   "outputs": [
    {
     "ename": "KeyboardInterrupt",
     "evalue": "",
     "output_type": "error",
     "traceback": [
      "\u001b[0;31m---------------------------------------------------------------------------\u001b[0m",
      "\u001b[0;31mKeyboardInterrupt\u001b[0m                         Traceback (most recent call last)",
      "\u001b[0;32m<ipython-input-9-e9d85bc55818>\u001b[0m in \u001b[0;36m<module>\u001b[0;34m\u001b[0m\n\u001b[1;32m     23\u001b[0m     \u001b[0mscreen\u001b[0m\u001b[0;34m.\u001b[0m\u001b[0mfill\u001b[0m\u001b[0;34m(\u001b[0m\u001b[0mblack\u001b[0m\u001b[0;34m)\u001b[0m\u001b[0;34m\u001b[0m\u001b[0;34m\u001b[0m\u001b[0m\n\u001b[1;32m     24\u001b[0m     \u001b[0mscreen\u001b[0m\u001b[0;34m.\u001b[0m\u001b[0mblit\u001b[0m\u001b[0;34m(\u001b[0m\u001b[0mball\u001b[0m\u001b[0;34m,\u001b[0m \u001b[0mballrect\u001b[0m\u001b[0;34m)\u001b[0m\u001b[0;34m\u001b[0m\u001b[0;34m\u001b[0m\u001b[0m\n\u001b[0;32m---> 25\u001b[0;31m     \u001b[0mpygame\u001b[0m\u001b[0;34m.\u001b[0m\u001b[0mdisplay\u001b[0m\u001b[0;34m.\u001b[0m\u001b[0mflip\u001b[0m\u001b[0;34m(\u001b[0m\u001b[0;34m)\u001b[0m\u001b[0;34m\u001b[0m\u001b[0;34m\u001b[0m\u001b[0m\n\u001b[0m",
      "\u001b[0;31mKeyboardInterrupt\u001b[0m: "
     ]
    }
   ],
   "source": [
    "import sys, pygame #import libraries\n",
    "pygame.init() #start pygame?\n",
    "\n",
    "size = width, height = 400, 500 #length, height\n",
    "speed = [10, 2] #horizontal, vertical\n",
    "black = 0, 0, 0 #assign rgb value to variable \"black\"\n",
    "\n",
    "screen = pygame.display.set_mode(size) #set screen size to variable \"size\"\n",
    "\n",
    "ball = pygame.image.load(\"Intro_ball.gif\") #load gif\n",
    "ballrect = ball.get_rect() #gets rectangular coordinates of rectangle surrounding image?\n",
    "\n",
    "while 1:\n",
    "    for event in pygame.event.get():\n",
    "        if event.type == pygame.QUIT: sys.exit() #continue until told to quit\n",
    "\n",
    "    ballrect = ballrect.move(speed) #move rectangle\n",
    "    if ballrect.left < 0 or ballrect.right > width:\n",
    "        speed[0] = -speed[0] #if rectangle goes out of bounds horizontally, flip direction\n",
    "    if ballrect.top < 0 or ballrect.bottom > height:\n",
    "        speed[1] = -speed[1] #if rectangle goes out of bounds vertically, flip direction\n",
    "\n",
    "    screen.fill(black) #set background color\n",
    "    screen.blit(ball, ballrect) #render objects visually\n",
    "    pygame.display.flip() #update full display of the screen"
   ]
  },
  {
   "cell_type": "code",
   "execution_count": null,
   "metadata": {},
   "outputs": [],
   "source": []
  }
 ],
 "metadata": {
  "kernelspec": {
   "display_name": "Python 3",
   "language": "python",
   "name": "python3"
  },
  "language_info": {
   "codemirror_mode": {
    "name": "ipython",
    "version": 3
   },
   "file_extension": ".py",
   "mimetype": "text/x-python",
   "name": "python",
   "nbconvert_exporter": "python",
   "pygments_lexer": "ipython3",
   "version": "3.8.3"
  }
 },
 "nbformat": 4,
 "nbformat_minor": 4
}
